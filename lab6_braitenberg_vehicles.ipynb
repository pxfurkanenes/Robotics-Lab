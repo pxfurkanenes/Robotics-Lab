{
 "cells": [
  {
   "cell_type": "markdown",
   "metadata": {},
   "source": [
    "# LAB #6 “Braitenberg Vehicles”"
   ]
  },
  {
   "cell_type": "markdown",
   "metadata": {},
   "source": [
    "## 1.Calibration of sensors"
   ]
  },
  {
   "cell_type": "code",
   "execution_count": 1,
   "metadata": {
    "collapsed": true
   },
   "outputs": [],
   "source": [
    "import matplotlib.pyplot as plt\n",
    "import pandas as pd\n",
    "import numpy as np\n",
    "from sklearn import datasets, linear_model\n",
    "%matplotlib inline"
   ]
  },
  {
   "cell_type": "markdown",
   "metadata": {},
   "source": [
    "Firstly, we collected some data from our sensors in order to make them work in the same way."
   ]
  },
  {
   "cell_type": "code",
   "execution_count": 2,
   "metadata": {
    "collapsed": true
   },
   "outputs": [],
   "source": [
    "nxt_values = [0.19, 0.16, 0.22, 0.39, 0.48, 0.54, 0.54, 0.77, 0.88, 0.90,\n",
    "              0.18, 0.17, 0.20, 0.32, 0.43, 0.45, 0.24, 0.22,\n",
    "             0.82, 0.88, 0.89, 0.90, 0.90, 0.53, 0.38, 0.40, 0.58, 0.70, 0.31]\n",
    "ev3_values = [0.01, 0.01, 0.02, 0.1, 0.24, 0.35, 0.38, 0.53, 0.67 , 0.92,\n",
    "              0.01, 0.009, 0.01, 0.04, 0.14, 0.16, 0.02, 0.019,\n",
    "             0.54, 0.60, 0.72, 0.78, 0.86, 0.26, 0.11, 0.15, 0.31, 0.45, 0.05]"
   ]
  },
  {
   "cell_type": "code",
   "execution_count": 3,
   "metadata": {
    "scrolled": false
   },
   "outputs": [],
   "source": [
    "observed_data = pd.DataFrame(nxt_values, pd.Index(ev3_values,name=\"ev3\"), columns=[\"nxt\"])\n",
    "observed_data = observed_data.sort_index()"
   ]
  },
  {
   "cell_type": "code",
   "execution_count": 4,
   "metadata": {},
   "outputs": [
    {
     "data": {
      "text/html": [
       "<div>\n",
       "<style>\n",
       "    .dataframe thead tr:only-child th {\n",
       "        text-align: right;\n",
       "    }\n",
       "\n",
       "    .dataframe thead th {\n",
       "        text-align: left;\n",
       "    }\n",
       "\n",
       "    .dataframe tbody tr th {\n",
       "        vertical-align: top;\n",
       "    }\n",
       "</style>\n",
       "<table border=\"1\" class=\"dataframe\">\n",
       "  <thead>\n",
       "    <tr style=\"text-align: right;\">\n",
       "      <th></th>\n",
       "      <th>nxt</th>\n",
       "    </tr>\n",
       "    <tr>\n",
       "      <th>ev3</th>\n",
       "      <th></th>\n",
       "    </tr>\n",
       "  </thead>\n",
       "  <tbody>\n",
       "    <tr>\n",
       "      <th>0.009</th>\n",
       "      <td>0.17</td>\n",
       "    </tr>\n",
       "    <tr>\n",
       "      <th>0.010</th>\n",
       "      <td>0.19</td>\n",
       "    </tr>\n",
       "    <tr>\n",
       "      <th>0.010</th>\n",
       "      <td>0.16</td>\n",
       "    </tr>\n",
       "    <tr>\n",
       "      <th>0.010</th>\n",
       "      <td>0.20</td>\n",
       "    </tr>\n",
       "    <tr>\n",
       "      <th>0.010</th>\n",
       "      <td>0.18</td>\n",
       "    </tr>\n",
       "    <tr>\n",
       "      <th>0.019</th>\n",
       "      <td>0.22</td>\n",
       "    </tr>\n",
       "    <tr>\n",
       "      <th>0.020</th>\n",
       "      <td>0.22</td>\n",
       "    </tr>\n",
       "    <tr>\n",
       "      <th>0.020</th>\n",
       "      <td>0.24</td>\n",
       "    </tr>\n",
       "    <tr>\n",
       "      <th>0.040</th>\n",
       "      <td>0.32</td>\n",
       "    </tr>\n",
       "    <tr>\n",
       "      <th>0.050</th>\n",
       "      <td>0.31</td>\n",
       "    </tr>\n",
       "    <tr>\n",
       "      <th>0.100</th>\n",
       "      <td>0.39</td>\n",
       "    </tr>\n",
       "    <tr>\n",
       "      <th>0.110</th>\n",
       "      <td>0.38</td>\n",
       "    </tr>\n",
       "    <tr>\n",
       "      <th>0.140</th>\n",
       "      <td>0.43</td>\n",
       "    </tr>\n",
       "    <tr>\n",
       "      <th>0.150</th>\n",
       "      <td>0.40</td>\n",
       "    </tr>\n",
       "    <tr>\n",
       "      <th>0.160</th>\n",
       "      <td>0.45</td>\n",
       "    </tr>\n",
       "    <tr>\n",
       "      <th>0.240</th>\n",
       "      <td>0.48</td>\n",
       "    </tr>\n",
       "    <tr>\n",
       "      <th>0.260</th>\n",
       "      <td>0.53</td>\n",
       "    </tr>\n",
       "    <tr>\n",
       "      <th>0.310</th>\n",
       "      <td>0.58</td>\n",
       "    </tr>\n",
       "    <tr>\n",
       "      <th>0.350</th>\n",
       "      <td>0.54</td>\n",
       "    </tr>\n",
       "    <tr>\n",
       "      <th>0.380</th>\n",
       "      <td>0.54</td>\n",
       "    </tr>\n",
       "    <tr>\n",
       "      <th>0.450</th>\n",
       "      <td>0.70</td>\n",
       "    </tr>\n",
       "    <tr>\n",
       "      <th>0.530</th>\n",
       "      <td>0.77</td>\n",
       "    </tr>\n",
       "    <tr>\n",
       "      <th>0.540</th>\n",
       "      <td>0.82</td>\n",
       "    </tr>\n",
       "    <tr>\n",
       "      <th>0.600</th>\n",
       "      <td>0.88</td>\n",
       "    </tr>\n",
       "    <tr>\n",
       "      <th>0.670</th>\n",
       "      <td>0.88</td>\n",
       "    </tr>\n",
       "    <tr>\n",
       "      <th>0.720</th>\n",
       "      <td>0.89</td>\n",
       "    </tr>\n",
       "    <tr>\n",
       "      <th>0.780</th>\n",
       "      <td>0.90</td>\n",
       "    </tr>\n",
       "    <tr>\n",
       "      <th>0.860</th>\n",
       "      <td>0.90</td>\n",
       "    </tr>\n",
       "    <tr>\n",
       "      <th>0.920</th>\n",
       "      <td>0.90</td>\n",
       "    </tr>\n",
       "  </tbody>\n",
       "</table>\n",
       "</div>"
      ],
      "text/plain": [
       "        nxt\n",
       "ev3        \n",
       "0.009  0.17\n",
       "0.010  0.19\n",
       "0.010  0.16\n",
       "0.010  0.20\n",
       "0.010  0.18\n",
       "0.019  0.22\n",
       "0.020  0.22\n",
       "0.020  0.24\n",
       "0.040  0.32\n",
       "0.050  0.31\n",
       "0.100  0.39\n",
       "0.110  0.38\n",
       "0.140  0.43\n",
       "0.150  0.40\n",
       "0.160  0.45\n",
       "0.240  0.48\n",
       "0.260  0.53\n",
       "0.310  0.58\n",
       "0.350  0.54\n",
       "0.380  0.54\n",
       "0.450  0.70\n",
       "0.530  0.77\n",
       "0.540  0.82\n",
       "0.600  0.88\n",
       "0.670  0.88\n",
       "0.720  0.89\n",
       "0.780  0.90\n",
       "0.860  0.90\n",
       "0.920  0.90"
      ]
     },
     "execution_count": 4,
     "metadata": {},
     "output_type": "execute_result"
    }
   ],
   "source": [
    "observed_data"
   ]
  },
  {
   "cell_type": "code",
   "execution_count": 5,
   "metadata": {
    "scrolled": true
   },
   "outputs": [
    {
     "data": {
      "text/plain": [
       "<matplotlib.axes._subplots.AxesSubplot at 0x1fc6ac39908>"
      ]
     },
     "execution_count": 5,
     "metadata": {},
     "output_type": "execute_result"
    },
    {
     "data": {
      "image/png": "[encoded data removed]",
      "text/plain": [
       "<matplotlib.figure.Figure at 0x1fc6ac39d30>"
      ]
     },
     "metadata": {},
     "output_type": "display_data"
    }
   ],
   "source": [
    "observed_data.plot()"
   ]
  },
  {
   "cell_type": "markdown",
   "metadata": {},
   "source": [
    "We noticed that we can use linear regression for a part of this data and for the outliners in maximum and minimum area, we just used a constant value."
   ]
  },
  {
   "cell_type": "code",
   "execution_count": 6,
   "metadata": {
    "scrolled": true
   },
   "outputs": [
    {
     "data": {
      "text/plain": [
       "<matplotlib.axes._subplots.AxesSubplot at 0x1fc6ac93668>"
      ]
     },
     "execution_count": 6,
     "metadata": {},
     "output_type": "execute_result"
    },
    {
     "data": {
      "image/png": "[encoded data removed]",
      "text/plain": [
       "<matplotlib.figure.Figure at 0x1fc6b024cf8>"
      ]
     },
     "metadata": {},
     "output_type": "display_data"
    }
   ],
   "source": [
    "observed_data[0.19:0.7].plot()"
   ]
  },
  {
   "cell_type": "code",
   "execution_count": 7,
   "metadata": {},
   "outputs": [
    {
     "data": {
      "image/png": "[encoded data removed]",
      "text/plain": [
       "<matplotlib.figure.Figure at 0x1fc6b012160>"
      ]
     },
     "metadata": {},
     "output_type": "display_data"
    }
   ],
   "source": [
    "x = observed_data.index.values[5:-4]\n",
    "y = observed_data.values[5:-4]\n",
    "\n",
    "x = x.reshape(20, 1)\n",
    "y = y.reshape(20, 1)\n",
    "\n",
    "regr = linear_model.LinearRegression()\n",
    "regr.fit(x, y)\n",
    "\n",
    "plt.scatter(x, y,  color='black')\n",
    "plt.plot(x, regr.predict(x), color='blue', linewidth=3)\n",
    "plt.xticks(())\n",
    "plt.yticks(())\n",
    "plt.show()"
   ]
  },
  {
   "cell_type": "code",
   "execution_count": 8,
   "metadata": {},
   "outputs": [
    {
     "data": {
      "text/plain": [
       "array([[ 0.98633398]])"
      ]
     },
     "execution_count": 8,
     "metadata": {},
     "output_type": "execute_result"
    }
   ],
   "source": [
    "a = regr.coef_\n",
    "a"
   ]
  },
  {
   "cell_type": "code",
   "execution_count": 9,
   "metadata": {},
   "outputs": [
    {
     "data": {
      "text/plain": [
       "array([ 0.25056148])"
      ]
     },
     "execution_count": 9,
     "metadata": {},
     "output_type": "execute_result"
    }
   ],
   "source": [
    "b = regr.intercept_\n",
    "b"
   ]
  },
  {
   "cell_type": "markdown",
   "metadata": {},
   "source": [
    "y = ax + b"
   ]
  },
  {
   "cell_type": "markdown",
   "metadata": {},
   "source": [
    "We used this equation to convert ev3 sensor values to nxt sensor values when they are between 0.19 and 0.7"
   ]
  },
  {
   "cell_type": "markdown",
   "metadata": {},
   "source": [
    "## 2. Vehicle 1\n",
    "\n",
    "This vehicle only uses one sensor and speeds up when it senses more light.\n",
    "\n",
    "[Video for Vehicle 1](https://www.youtube.com/watch?v=gNuXyU8n4sY)"
   ]
  },
  {
   "cell_type": "markdown",
   "metadata": {},
   "source": [
    "## 3. Vehicle 2\n",
    "This type of vehicle uses 2 sensors. \n",
    "When the sensors are connected to the motors on the same side, the behavior of robot is called \"fear\". It speeds up when it sees more light and when it encounters a light source it turns away from the source.\n",
    "\n",
    "[Video for Vehicle 2a](https://www.youtube.com/watch?v=8JgvRFxzGF4)\n",
    "\n",
    "When the sensors are connected to the motors on the opposite side, the behavior is called \"aggression\". It also speeds up when it sees more light but this time, when it encounters a light source it goes to this light source.\n",
    "\n",
    "[Video for Vehicle 2b](https://www.youtube.com/watch?v=4sBrA1ocHMI)"
   ]
  },
  {
   "cell_type": "markdown",
   "metadata": {},
   "source": [
    "## 4. Vehicle 3\n",
    "This type of vehicle uses 2 sensors and when they see more light, they slow down the motors unlike Vehicle 2 which speeds up. \n",
    "When the sensors are connected to the motors on the same side, it goes fast in the dark and goes towards the light but when it gets too close to the light it stops. This behavior is called \"love\". <3\n",
    "\n",
    "[Video for Vehicle 3a](https://www.youtube.com/watch?v=qMyM5R4eL5A)\n",
    "\n",
    "When the sensors are connected to the motors on the opposite side, it goes fast in the dark and goes towards the light but when it gets too close to the light it goes away from this light source and looks for the others. This behavior is called \"exploration\".\n",
    "\n",
    "[Video for Vehicle 3b](https://www.youtube.com/watch?v=HmaNdLNpPS8)"
   ]
  },
  {
   "cell_type": "markdown",
   "metadata": {},
   "source": [
    "## 5. Vehicle 4\n",
    "This type of vehicle does not directly give the output from sensors to motors as input. It evaluates them and then gives them to the motors according to the result of the evalution. In this case, when the sensed light is up to one particular point, it speeds up the motors, after that point it slows down the motors. \n",
    "\n",
    "[Video for Vehicle 4](https://www.youtube.com/watch?v=eConrNiA67g)\n",
    "\n",
    "In theory, this design should work as described in the given document. However, we could not manage to find a round light source which distributes light in every way, so  it does not behave exactly as it is wanted from us. But then again, it should work as desired with the correct light source, so we tried to show it in this video."
   ]
  }
 ],
 "metadata": {
  "kernelspec": {
   "display_name": "Python 3",
   "language": "python",
   "name": "python3"
  },
  "language_info": {
   "codemirror_mode": {
    "name": "ipython",
    "version": 3
   },
   "file_extension": ".py",
   "mimetype": "text/x-python",
   "name": "python",
   "nbconvert_exporter": "python",
   "pygments_lexer": "ipython3",
   "version": "3.6.1"
  }
 },
 "nbformat": 4,
 "nbformat_minor": 2
}
